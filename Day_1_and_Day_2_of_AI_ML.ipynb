{
  "nbformat": 4,
  "nbformat_minor": 0,
  "metadata": {
    "colab": {
      "provenance": []
    },
    "kernelspec": {
      "name": "python3",
      "display_name": "Python 3"
    },
    "language_info": {
      "name": "python"
    }
  },
  "cells": [
    {
      "cell_type": "code",
      "execution_count": null,
      "metadata": {
        "colab": {
          "base_uri": "https://localhost:8080/"
        },
        "id": "8hh4upVP-lKk",
        "outputId": "4637e5eb-72c9-4cda-bcdd-8923dafc6bdf"
      },
      "outputs": [
        {
          "output_type": "stream",
          "name": "stdout",
          "text": [
            "My name is : sana\n"
          ]
        }
      ],
      "source": [
        "name = \"sana\"\n",
        "print(\"My name is :\",name)"
      ]
    },
    {
      "cell_type": "code",
      "source": [
        "print(\"Hello world\")#function call\n",
        "x=5 #Variable assignment\n",
        "y=10 #No need to declare type"
      ],
      "metadata": {
        "colab": {
          "base_uri": "https://localhost:8080/"
        },
        "id": "bRXY4Q-vGPbA",
        "outputId": "4633889c-8b1b-4adb-d6a1-516706332808"
      },
      "execution_count": null,
      "outputs": [
        {
          "output_type": "stream",
          "name": "stdout",
          "text": [
            "Hello world\n"
          ]
        }
      ]
    },
    {
      "cell_type": "code",
      "source": [],
      "metadata": {
        "id": "DjENRPDzEOzr"
      },
      "execution_count": null,
      "outputs": []
    },
    {
      "cell_type": "code",
      "source": [
        "age=20 #Int\n",
        "height=6.0 #float\n",
        "complex_num =3+4j #complex\n",
        "print(age,height,complex_num)\n",
        "print(type(age),\"\\n\",type(height),\"\\n\",type(complex_num))\n"
      ],
      "metadata": {
        "colab": {
          "base_uri": "https://localhost:8080/"
        },
        "id": "tYaykxqwI-Eg",
        "outputId": "fe38ec12-1bf0-4ce3-df33-ad8ac21f694a"
      },
      "execution_count": null,
      "outputs": [
        {
          "output_type": "stream",
          "name": "stdout",
          "text": [
            "20 6.0 (3+4j)\n",
            "<class 'int'> \n",
            " <class 'float'> \n",
            " <class 'complex'>\n"
          ]
        }
      ]
    },
    {
      "cell_type": "code",
      "source": [
        "is_active= True\n",
        "is_finished=False\n",
        "print(is_active,is_finished)\n"
      ],
      "metadata": {
        "colab": {
          "base_uri": "https://localhost:8080/"
        },
        "id": "xGxNeDehKYNB",
        "outputId": "3848a8a8-e8f4-49a4-b28c-f81007c3ab11"
      },
      "execution_count": null,
      "outputs": [
        {
          "output_type": "stream",
          "name": "stdout",
          "text": [
            "True False\n"
          ]
        }
      ]
    },
    {
      "cell_type": "code",
      "source": [
        "print(type (age))#class'int'\n",
        "print(type(height))#class 'float'\n",
        "print(type(name))#class 'str'\n",
        "print(type(complex_num))#class 'complex'\n",
        "print(type(is_active))#class 'bool'"
      ],
      "metadata": {
        "colab": {
          "base_uri": "https://localhost:8080/"
        },
        "id": "PO_odvvtOQxI",
        "outputId": "ea751a4c-03c5-489f-9f1f-cae80fb6aee1"
      },
      "execution_count": null,
      "outputs": [
        {
          "output_type": "stream",
          "name": "stdout",
          "text": [
            "<class 'int'>\n",
            "<class 'float'>\n",
            "<class 'str'>\n",
            "<class 'complex'>\n",
            "<class 'bool'>\n"
          ]
        }
      ]
    },
    {
      "cell_type": "code",
      "source": [
        "str_number=\"123\"\n",
        "int_number=int(str_number)\n",
        "float_number=float(str_number)\n",
        "\n",
        "print(f\"Original:{str_number} (type:{type(str_number)})\")\n",
        "print(f\"Integer:{int_number} (type:{type(int_number)})\")\n",
        "print(f\"Float:{float_number}(type:{type(float_number)})\")\n"
      ],
      "metadata": {
        "colab": {
          "base_uri": "https://localhost:8080/"
        },
        "id": "Xwy3f4qeGl-Q",
        "outputId": "6527d82c-5f73-450c-bfa6-ffdc2a3fae74"
      },
      "execution_count": null,
      "outputs": [
        {
          "output_type": "stream",
          "name": "stdout",
          "text": [
            "Original:123 (type:<class 'str'>)\n",
            "Integer:123 (type:<class 'int'>)\n",
            "Float:123.0(type:<class 'float'>)\n"
          ]
        }
      ]
    },
    {
      "cell_type": "code",
      "source": [
        "first_name =\"Sahana\"\n",
        "last_name =\"Karigar\"\n",
        "age = 20\n",
        "height = 6.2\n",
        "is_student = True"
      ],
      "metadata": {
        "id": "Wx44MUOwgJZi"
      },
      "execution_count": null,
      "outputs": []
    },
    {
      "cell_type": "code",
      "source": [
        "print(f\"Name:{first_name} {last_name}\")\n",
        "print(f\"Age:{age}\")\n",
        "print(f\"Height:{height}\")\n",
        "print(f\"Is Student:{is_student}\")"
      ],
      "metadata": {
        "colab": {
          "base_uri": "https://localhost:8080/"
        },
        "id": "_HCi_k8DipoC",
        "outputId": "361184f6-95b6-4e15-980c-e67e02c525ce"
      },
      "execution_count": null,
      "outputs": [
        {
          "output_type": "stream",
          "name": "stdout",
          "text": [
            "Name:Sahana Karigar\n",
            "Age:20\n",
            "Height:6.2\n",
            "Is Student:True\n"
          ]
        }
      ]
    },
    {
      "cell_type": "code",
      "source": [
        "age_str=str(age)\n",
        "height_int=int(height)\n",
        "print(f\"Age as String:{age_str}\")\n",
        "print(f\"height as integer:{height_int}\")"
      ],
      "metadata": {
        "colab": {
          "base_uri": "https://localhost:8080/"
        },
        "id": "s5rqpYyCkC-B",
        "outputId": "042e1e93-7dda-46fe-a414-eafd7757d652"
      },
      "execution_count": null,
      "outputs": [
        {
          "output_type": "stream",
          "name": "stdout",
          "text": [
            "Age as String:20\n",
            "height as integer:6\n"
          ]
        }
      ]
    },
    {
      "cell_type": "code",
      "source": [
        "a=5\n",
        "b=4\n",
        "print(\"Addition :\",a+b)\n",
        "print(\"substraction :\",a-b)\n",
        "print(\"Multiplication :\",a*b)\n",
        "print(\"Division :\",a/b)\n",
        "print(\"floor Division :\", a//b)\n",
        "print(\"Modulus :\",a%b)\n",
        "print(\"Exponentation :\",a**b)"
      ],
      "metadata": {
        "colab": {
          "base_uri": "https://localhost:8080/"
        },
        "id": "X3Nh0n4EmlDS",
        "outputId": "3993fb52-1f5e-4366-a4ec-6cb91b024229"
      },
      "execution_count": null,
      "outputs": [
        {
          "output_type": "stream",
          "name": "stdout",
          "text": [
            "Addition : 9\n",
            "substraction : 1\n",
            "Multiplication : 20\n",
            "Division : 1.25\n",
            "floor Division : 1\n",
            "Modulus : 1\n",
            "Exponentation : 625\n"
          ]
        }
      ]
    },
    {
      "cell_type": "code",
      "source": [
        "result= 5+3*2**2-1\n",
        "print(f\" 5+3*2**2-1 = {result}\")"
      ],
      "metadata": {
        "colab": {
          "base_uri": "https://localhost:8080/"
        },
        "id": "1ebvo7ywoVN6",
        "outputId": "2bdf163e-75d8-4463-a860-5c2d8f44173e"
      },
      "execution_count": null,
      "outputs": [
        {
          "output_type": "stream",
          "name": "stdout",
          "text": [
            " 5+3*2**2-1 = 16\n"
          ]
        }
      ]
    },
    {
      "cell_type": "code",
      "source": [
        "x=10\n",
        "y=30\n",
        "print(x==y)# Equal to\n",
        "print(x!=y)#Not Equal to\n",
        "print(x<y)#Less Than-\n",
        "print(x>y)# Greater than\n",
        "print(x<=y)# Less than equals to\n",
        "print(x>=y)# Greater than Equals to\n"
      ],
      "metadata": {
        "colab": {
          "base_uri": "https://localhost:8080/"
        },
        "id": "fJsseZKms9My",
        "outputId": "5e5ec71f-3b87-4851-a543-3bc792a0b2e0"
      },
      "execution_count": null,
      "outputs": [
        {
          "output_type": "stream",
          "name": "stdout",
          "text": [
            "False\n",
            "True\n",
            "True\n",
            "False\n",
            "True\n",
            "False\n"
          ]
        }
      ]
    },
    {
      "cell_type": "code",
      "source": [
        "p = True\n",
        "q = False\n",
        "print(f\"p and q: {p and q}\")#Both must be true\n",
        "print(f\"p or q: {p or q}\")# atleas one must be true\n",
        "print(f\"not p: {not p}\")# Opposite of p"
      ],
      "metadata": {
        "colab": {
          "base_uri": "https://localhost:8080/"
        },
        "id": "pzVzMrKBvCeI",
        "outputId": "d6e62f00-fb57-48a7-f3df-042af8f5baeb"
      },
      "execution_count": null,
      "outputs": [
        {
          "output_type": "stream",
          "name": "stdout",
          "text": [
            "p and q: False\n",
            "p or q: True\n",
            "not p: False\n"
          ]
        }
      ]
    },
    {
      "cell_type": "code",
      "source": [
        "age = 20\n",
        "has_licencce= True\n",
        "can_drive = age>=18 and has_licencce\n",
        "print(f\"Can Drive:{can_drive}\")"
      ],
      "metadata": {
        "colab": {
          "base_uri": "https://localhost:8080/"
        },
        "id": "iuCEAEkOw7yR",
        "outputId": "58b1fddc-f5fe-445e-f87c-48eb82ec21da"
      },
      "execution_count": null,
      "outputs": [
        {
          "output_type": "stream",
          "name": "stdout",
          "text": [
            "Can Drive:True\n"
          ]
        }
      ]
    },
    {
      "cell_type": "code",
      "source": [
        "score = 85\n",
        "is_present = True\n",
        "can_pass = score>=80 and is_present\n",
        "print(f\"can pass {can_pass}\")"
      ],
      "metadata": {
        "colab": {
          "base_uri": "https://localhost:8080/"
        },
        "id": "9trdmx9_xgY4",
        "outputId": "d561ed33-0472-4003-808b-e366ec0fc350"
      },
      "execution_count": null,
      "outputs": [
        {
          "output_type": "stream",
          "name": "stdout",
          "text": [
            "can pass True\n"
          ]
        }
      ]
    },
    {
      "cell_type": "code",
      "source": [
        "#Exercise 2\n",
        "#Create a calculator that checks if a person qualifies for a loan\n",
        "# personal information\n",
        "age = 25\n",
        "annual_income = 50000\n",
        "credit_score = 720\n",
        "has_collateral = True"
      ],
      "metadata": {
        "id": "fbEi3h1Yyvd3"
      },
      "execution_count": null,
      "outputs": []
    },
    {
      "cell_type": "code",
      "source": [
        "# Loan Criteria\n",
        "min_age = 10\n",
        "min_income = 10000\n",
        "min_credit_score = 650\n"
      ],
      "metadata": {
        "id": "WYP0kkMCzgig"
      },
      "execution_count": null,
      "outputs": []
    },
    {
      "cell_type": "code",
      "source": [
        "#Check Qualification\n",
        "age_qualified = age>= min_age\n",
        "income_qualified = annual_income >=min_income\n",
        "credit_qualified = credit_score>= min_credit_score\n",
        "overall_qualified = age_qualified and income_qualified and credit_qualified"
      ],
      "metadata": {
        "id": "LSnxXJ-e3YjY"
      },
      "execution_count": null,
      "outputs": []
    },
    {
      "cell_type": "code",
      "source": [
        "#Print Qualification\n",
        "print(f\"Age Qualified:{age_qualified}\")\n",
        "print(f\"Income Qualified:{income_qualified}\")\n",
        "print(f\"Credit Qualified:{credit_qualified}\")\n",
        "print(f\"Overall Qualified:{overall_qualified}\")\n"
      ],
      "metadata": {
        "colab": {
          "base_uri": "https://localhost:8080/"
        },
        "id": "sN3LjlnT4cGw",
        "outputId": "81847cb8-8e9c-4dbf-b11d-d52aab278500"
      },
      "execution_count": null,
      "outputs": [
        {
          "output_type": "stream",
          "name": "stdout",
          "text": [
            "Age Qualified:True\n",
            "Income Qualified:True\n",
            "Credit Qualified:True\n",
            "Overall Qualified:True\n"
          ]
        }
      ]
    },
    {
      "cell_type": "code",
      "source": [
        "fruits = [\"apple\",\"banana\",\"Orange\", \"grapes\"]\n",
        "numbers = [10,20,30,40,50]\n",
        "mixed_data=[1,\"Hello\",3.14,True]\n",
        "print(f\"fruits:{fruits[0]}\")\n",
        "print(f\"fruits:{fruits[-1]}\")\n",
        "print(f\"second to last fruit:{fruits[-2]}\")\n"
      ],
      "metadata": {
        "colab": {
          "base_uri": "https://localhost:8080/"
        },
        "id": "0gbK3gOx6xKp",
        "outputId": "c173fc73-ad20-406a-c082-fa1e930ba85d"
      },
      "execution_count": null,
      "outputs": [
        {
          "output_type": "stream",
          "name": "stdout",
          "text": [
            "fruits:apple\n",
            "fruits:grapes\n",
            "second to last fruit:Orange\n"
          ]
        }
      ]
    },
    {
      "cell_type": "code",
      "source": [
        "print(f\"First 2 fruits:{fruits[0:2]}\")\n",
        "print(f\"Last 2 fruits:{fruits[-2:]}\")\n",
        "print(f\"All expect first:{fruits[1:]}\")"
      ],
      "metadata": {
        "colab": {
          "base_uri": "https://localhost:8080/"
        },
        "id": "i1RdDj8YAR_Q",
        "outputId": "16fd30f3-5732-411b-8af9-4074f4af7f7c"
      },
      "execution_count": null,
      "outputs": [
        {
          "output_type": "stream",
          "name": "stdout",
          "text": [
            "First 2 fruits:['apple', 'banana']\n",
            "Last 2 fruits:['Orange', 'grapes']\n",
            "All expect first:['banana', 'Orange', 'grapes']\n"
          ]
        }
      ]
    },
    {
      "cell_type": "code",
      "source": [
        "fruits.append(\"Kiwi\")\n",
        "fruits.insert(1,\"strberry\")\n",
        "remove=fruits.pop()\n",
        "print(f\"Updated list:{fruits}\")\n",
        "print(f\"Removed:{remove}\")"
      ],
      "metadata": {
        "colab": {
          "base_uri": "https://localhost:8080/"
        },
        "id": "cTvlZvnAA80o",
        "outputId": "aa9bc0aa-6115-48d4-9236-cf4afad60dff"
      },
      "execution_count": null,
      "outputs": [
        {
          "output_type": "stream",
          "name": "stdout",
          "text": [
            "Updated list:['apple', 'strberry', 'strberry', 'banana', 'Orange', 'grapes']\n",
            "Removed:Kiwi\n"
          ]
        }
      ]
    },
    {
      "cell_type": "code",
      "source": [
        "#Operations on list\n",
        "print(f\"Length of fruits:{len(fruits)}\")\n",
        "print(f\"Contains 'apple' : {'apple' in fruits}\")\n",
        "print(f\"Index of 'banana' : {fruits.index('banana')}\")"
      ],
      "metadata": {
        "colab": {
          "base_uri": "https://localhost:8080/"
        },
        "id": "qpLNMFxBCcPA",
        "outputId": "535ced01-f18b-4cc2-cae8-8691aae7ac36"
      },
      "execution_count": null,
      "outputs": [
        {
          "output_type": "stream",
          "name": "stdout",
          "text": [
            "Length of fruits:6\n",
            "Contains 'apple' : True\n",
            "Index of 'banana' : 3\n"
          ]
        }
      ]
    },
    {
      "cell_type": "code",
      "source": [
        "#Tuples\n",
        "coordinates=(10,20)\n",
        "rgb_color=(255,128,0)\n",
        "person_info = (\"Alice\",25,\"Engineer\",True)"
      ],
      "metadata": {
        "id": "wq-3RetGD6oA"
      },
      "execution_count": null,
      "outputs": []
    },
    {
      "cell_type": "code",
      "source": [
        "#tuple unpacking\n",
        "x,y=coordinates\n",
        "print(f\"x:{x},y:{y}\")"
      ],
      "metadata": {
        "colab": {
          "base_uri": "https://localhost:8080/"
        },
        "id": "x5DqMad1E_hA",
        "outputId": "cdca395b-e850-4f2c-ef90-321078ca82e5"
      },
      "execution_count": null,
      "outputs": [
        {
          "output_type": "stream",
          "name": "stdout",
          "text": [
            "x:10,y:20\n"
          ]
        }
      ]
    },
    {
      "cell_type": "code",
      "source": [
        "#tuple methods\n",
        "print(f\"Count of 25 : {person_info.count(25)}\")\n",
        "print(f\"Index of 'Engineer':{person_info.index('Engineer')}\")"
      ],
      "metadata": {
        "colab": {
          "base_uri": "https://localhost:8080/"
        },
        "id": "JI4VPgx8FLW4",
        "outputId": "8becc17a-1a6b-4f70-8560-dd1e4a79a00f"
      },
      "execution_count": null,
      "outputs": [
        {
          "output_type": "stream",
          "name": "stdout",
          "text": [
            "Count of 25 : 1\n",
            "Index of 'Engineer':2\n"
          ]
        }
      ]
    },
    {
      "cell_type": "code",
      "source": [
        " #dictionary\n",
        " person = {\n",
        "     \"name\":\"Alice Johnson\",\n",
        "     \"age\":23,\n",
        "     \"profession\":\"Software Engineer\",\n",
        "     \"Salry\":75000,\n",
        "     \"Skills\":[\"Python\",\"Java\",\"C++\"]\n",
        " }"
      ],
      "metadata": {
        "id": "mGcyummAFtJ3"
      },
      "execution_count": null,
      "outputs": []
    },
    {
      "cell_type": "code",
      "source": [
        "print(f\"name:{person['name']}\")\n",
        "print(f\"Age:{person['age']}\")\n",
        "print(f\"Skills:{person['Skills']}\")"
      ],
      "metadata": {
        "colab": {
          "base_uri": "https://localhost:8080/"
        },
        "id": "USGRqkz_GxLb",
        "outputId": "0344f1e9-70a2-44e3-947f-a17efe9478ef"
      },
      "execution_count": null,
      "outputs": [
        {
          "output_type": "stream",
          "name": "stdout",
          "text": [
            "name:Alice Johnson\n",
            "Age:23\n",
            "Skills:['Python', 'Java', 'C++']\n"
          ]
        }
      ]
    },
    {
      "cell_type": "code",
      "source": [
        "#Adding, Updating\n",
        "person[\"Location\"]=\"New York\"\n",
        "person[\"Salary\"]=84000 #updating Existing"
      ],
      "metadata": {
        "id": "DW7LjsRAHHP7"
      },
      "execution_count": null,
      "outputs": []
    },
    {
      "cell_type": "code",
      "source": [
        "inventory = {\n",
        "    \"Laptops\":{\n",
        "        \"Quantity\":50 ,\n",
        "        \"price\":999.99},\n",
        "    \"Mobile\":{\n",
        "        \"Quantity\":100,\n",
        "        \"price\":4999.99},\n",
        "    \"Tablet\":{\n",
        "        \"Quantity\":30,\n",
        "        \"price\":1499.99}\n",
        "}"
      ],
      "metadata": {
        "id": "qsUKdYztHkPN"
      },
      "execution_count": null,
      "outputs": []
    },
    {
      "cell_type": "code",
      "source": [
        "#nested Access\n",
        "print(f\"Laptops price: ${inventory['Laptops']['price']}\")"
      ],
      "metadata": {
        "colab": {
          "base_uri": "https://localhost:8080/"
        },
        "id": "a2CPLlLhJIC7",
        "outputId": "0838a4cc-a719-4faa-8678-26b411921c4e"
      },
      "execution_count": null,
      "outputs": [
        {
          "output_type": "stream",
          "name": "stdout",
          "text": [
            "Laptops price: $999.99\n"
          ]
        }
      ]
    },
    {
      "cell_type": "code",
      "source": [
        "#sets contain Unique Elements\n",
        "Colors = {\"Red\",\"Green\",\"Blue\",\"Red\"}\n",
        "print(f\"Colors:{Colors}\") #Duplicate remove"
      ],
      "metadata": {
        "colab": {
          "base_uri": "https://localhost:8080/"
        },
        "id": "YtG5SHIzKJVM",
        "outputId": "13005585-18ac-4e0c-f8d5-14efad72e012"
      },
      "execution_count": null,
      "outputs": [
        {
          "output_type": "stream",
          "name": "stdout",
          "text": [
            "Colors:{'Red', 'Blue', 'Green'}\n"
          ]
        }
      ]
    },
    {
      "cell_type": "code",
      "source": [
        "team1_skills = {\"Python\",\"Javascript\",\"SQL\",\"React\"}\n",
        "team2_skills = {\"Javascript\",\"SQL\",\"Java\",\"Spring\"}"
      ],
      "metadata": {
        "id": "r6rB_xhuKgnT"
      },
      "execution_count": null,
      "outputs": []
    },
    {
      "cell_type": "code",
      "source": [
        "print(f\"Common Skill;{team1_skills.intersection(team2_skills)}\")\n",
        "print(f\"All Skills:{team1_skills.union(team2_skills)}\")\n",
        "print(f\"Team1 only:{team2_skills.difference(team1_skills)}\")"
      ],
      "metadata": {
        "colab": {
          "base_uri": "https://localhost:8080/"
        },
        "id": "Ros-IZ_uLLAc",
        "outputId": "2b1f00f2-bd3b-4dd9-84ff-e8f4fe28616e"
      },
      "execution_count": null,
      "outputs": [
        {
          "output_type": "stream",
          "name": "stdout",
          "text": [
            "Common Skill;{'SQL', 'Javascript'}\n",
            "All Skills:{'Python', 'Javascript', 'Spring', 'Java', 'React', 'SQL'}\n",
            "Team1 only:{'Java', 'Spring'}\n"
          ]
        }
      ]
    },
    {
      "cell_type": "code",
      "source": [
        "#Adding to Sets\n",
        "Colors.add(\"Yellow\")\n",
        "Colors.update([\"Purple\",\"Orange\"])\n",
        "print(f\"Updated Colors:{Colors}\")"
      ],
      "metadata": {
        "colab": {
          "base_uri": "https://localhost:8080/"
        },
        "id": "24im_PtyLuqU",
        "outputId": "9bbc7caa-ca55-46ef-881c-48e3ab4183a3"
      },
      "execution_count": null,
      "outputs": [
        {
          "output_type": "stream",
          "name": "stdout",
          "text": [
            "Updated Colors:{'Blue', 'Yellow', 'Red', 'Purple', 'Green', 'Orange'}\n"
          ]
        }
      ]
    },
    {
      "cell_type": "code",
      "source": [
        "#Control Flow Statements\n",
        "#Conditional Statements\n",
        "#Basuc if-else\n",
        "\n",
        "def get_grade_letter(score):\n",
        "  if score>=90:\n",
        "    return \"A\"\n",
        "  elif score>=80:\n",
        "    return \"B\"\n",
        "  elif score>=70:\n",
        "    return \"C\"\n",
        "  elif score>=60:\n",
        "    return \"D\"\n",
        "  else:\n",
        "    return \"F\"\n"
      ],
      "metadata": {
        "id": "Fg8nxewRPiss"
      },
      "execution_count": null,
      "outputs": []
    },
    {
      "cell_type": "code",
      "source": [
        "test_score = [95,83,72,65,58]\n",
        "for score in test_score:\n",
        "  grade = get_grade_letter(score)\n",
        "  print(f\"Test Score:{score}, Grade:{grade}\")\n"
      ],
      "metadata": {
        "colab": {
          "base_uri": "https://localhost:8080/"
        },
        "id": "_HskcqFQQTIb",
        "outputId": "83c39a14-ba52-4735-bd4f-172bb3fbe7d7"
      },
      "execution_count": null,
      "outputs": [
        {
          "output_type": "stream",
          "name": "stdout",
          "text": [
            "Test Score:95, Grade:A\n",
            "Test Score:83, Grade:B\n",
            "Test Score:72, Grade:C\n",
            "Test Score:65, Grade:D\n",
            "Test Score:58, Grade:F\n"
          ]
        }
      ]
    },
    {
      "cell_type": "code",
      "source": [
        "def get_shipping_cost(weight,distance):\n",
        "  base_cost=5.0\n",
        "\n",
        "  if weight <= 1:\n",
        "    weight_cost=2.0\n",
        "  elif weight <=5:\n",
        "    weight_cost=5.0\n",
        "  else:\n",
        "    weight_cost=10.0\n",
        "\n",
        "  if distance <= 100:\n",
        "    distance_cost=1.0\n",
        "  elif distance <=500:\n",
        "    distance_cost=3.0\n",
        "  else:\n",
        "    distance_cost=7.0\n",
        "\n",
        "  return base_cost+weight_cost+distance_cost\n"
      ],
      "metadata": {
        "id": "vD-aMW9CQ-NU"
      },
      "execution_count": null,
      "outputs": []
    },
    {
      "cell_type": "code",
      "source": [
        "#Total Shipping Cost\n",
        "print(f\"Light, close : ${get_shipping_cost(0.5,50)}\")\n",
        "print(f\"Heavy, far : ${get_shipping_cost(10,800)}\")\n"
      ],
      "metadata": {
        "colab": {
          "base_uri": "https://localhost:8080/"
        },
        "id": "PQHo4JRcSSaT",
        "outputId": "08a44b70-c856-408a-a8a0-2facaa891c96"
      },
      "execution_count": null,
      "outputs": [
        {
          "output_type": "stream",
          "name": "stdout",
          "text": [
            "Light, close : $8.0\n",
            "Heavy, far : $22.0\n"
          ]
        }
      ]
    },
    {
      "cell_type": "code",
      "source": [
        "#Loops (For Loop)\n",
        "#Basic for loop\n",
        "fruits = [\"Apple\",\"Banana\",\"Orange\",\"Grapes\"]\n",
        "for fruit in fruits:\n",
        "  print(f\"i like {fruit}\")\n"
      ],
      "metadata": {
        "colab": {
          "base_uri": "https://localhost:8080/"
        },
        "id": "eXJRDDGET64c",
        "outputId": "40ced945-2c65-4691-adf0-eab33d5ac5eb"
      },
      "execution_count": null,
      "outputs": [
        {
          "output_type": "stream",
          "name": "stdout",
          "text": [
            "i like Apple\n",
            "i like Banana\n",
            "i like Orange\n",
            "i like Grapes\n"
          ]
        }
      ]
    },
    {
      "cell_type": "code",
      "source": [
        "#Loops for enumarate\n",
        "for day in range(1,8):\n",
        "  print(f\"day {day} of the week\")"
      ],
      "metadata": {
        "colab": {
          "base_uri": "https://localhost:8080/"
        },
        "id": "7Ix0ap3SW7g0",
        "outputId": "cb7718b6-aea9-44d0-a38f-9ffcce0c601b"
      },
      "execution_count": null,
      "outputs": [
        {
          "output_type": "stream",
          "name": "stdout",
          "text": [
            "day 1 of the week\n",
            "day 2 of the week\n",
            "day 3 of the week\n",
            "day 4 of the week\n",
            "day 5 of the week\n",
            "day 6 of the week\n",
            "day 7 of the week\n"
          ]
        }
      ]
    },
    {
      "cell_type": "code",
      "source": [
        "print(\"Multiplication Table:\")\n",
        "for i in range(1,6):\n",
        "  for j in range(1,6):\n",
        "    product = i * j\n",
        "    print(f\"{i} X {j} = {product:2d}\",end=\" \")\n",
        "    print() #Now line after each other"
      ],
      "metadata": {
        "colab": {
          "base_uri": "https://localhost:8080/"
        },
        "id": "ohwTgM-hYkcE",
        "outputId": "e1dc6338-220b-4837-b2f9-6e2e4cce5544"
      },
      "execution_count": null,
      "outputs": [
        {
          "output_type": "stream",
          "name": "stdout",
          "text": [
            "Multiplication Table:\n",
            "1 X 1 =  1 \n",
            "1 X 2 =  2 \n",
            "1 X 3 =  3 \n",
            "1 X 4 =  4 \n",
            "1 X 5 =  5 \n",
            "2 X 1 =  2 \n",
            "2 X 2 =  4 \n",
            "2 X 3 =  6 \n",
            "2 X 4 =  8 \n",
            "2 X 5 = 10 \n",
            "3 X 1 =  3 \n",
            "3 X 2 =  6 \n",
            "3 X 3 =  9 \n",
            "3 X 4 = 12 \n",
            "3 X 5 = 15 \n",
            "4 X 1 =  4 \n",
            "4 X 2 =  8 \n",
            "4 X 3 = 12 \n",
            "4 X 4 = 16 \n",
            "4 X 5 = 20 \n",
            "5 X 1 =  5 \n",
            "5 X 2 = 10 \n",
            "5 X 3 = 15 \n",
            "5 X 4 = 20 \n",
            "5 X 5 = 25 \n"
          ]
        }
      ]
    },
    {
      "cell_type": "code",
      "source": [
        "sales_data= [\n",
        "     {\"Product\":\"Laptop\",\"price\":959,\"Quantity\":5},\n",
        "     {\"Product\":\"Phone\",\"price\":599,\"Quantity\":10},\n",
        "     {\"Product\":\"Tablet\",\"price\":399,\"Quantity\":8},\n",
        "]\n",
        "\n",
        "total_revenue = 0\n",
        "for item in sales_data:\n",
        "  item_revenue = item[\"price\"] * item[\"Quantity\"]\n",
        "  total_revenue += item_revenue\n",
        "  print(f\"{item['Product']}: ${item_revenue}\")"
      ],
      "metadata": {
        "colab": {
          "base_uri": "https://localhost:8080/"
        },
        "id": "vOLPqHWZkWqP",
        "outputId": "1a2be7cb-b86b-4083-d858-2ed87b8e4937"
      },
      "execution_count": null,
      "outputs": [
        {
          "output_type": "stream",
          "name": "stdout",
          "text": [
            "Laptop: $4795\n",
            "Phone: $5990\n",
            "Tablet: $3192\n"
          ]
        }
      ]
    },
    {
      "cell_type": "code",
      "source": [
        "def simple_guessing_game():\n",
        "  target = 7\n",
        "  guess = 0\n",
        "  attempts = 0\n",
        "  print(\"Guess the number between 1 and 10\")\n",
        "\n",
        "  while guess != target:\n",
        "\n",
        "      #Stimulate user input\n",
        "      import random\n",
        "      guess = random.randint( 1,10 )\n",
        "      attempts += 1\n",
        "\n",
        "\n",
        "      if guess < target:\n",
        "        print(f\"Guess {attempts}: {guess} - Too low!\")\n",
        "      elif guess > target:\n",
        "        print(f\"Guess {attempts}: {guess} - Too high!\")\n",
        "      else:\n",
        "        print(f\"Guess {attempts}: {guess} - Correct!\")\n",
        "\n",
        "      #safety Check\n",
        "      if attempts > 10:\n",
        "        print(\"Max attempts reached!\")\n",
        "        break\n",
        "\n",
        "      print(f\"Game finished in {attempts} attempts\")\n",
        "\n",
        "simple_guessing_game()"
      ],
      "metadata": {
        "colab": {
          "base_uri": "https://localhost:8080/"
        },
        "id": "zd42Q1T-uw24",
        "outputId": "f7a87dd2-643f-4c07-c19f-2fd1a2e954dc"
      },
      "execution_count": null,
      "outputs": [
        {
          "output_type": "stream",
          "name": "stdout",
          "text": [
            "Guess the number between 1 and 10\n",
            "Guess 1: 3 - Too low!\n",
            "Game finished in 1 attempts\n",
            "Guess 2: 9 - Too high!\n",
            "Game finished in 2 attempts\n",
            "Guess 3: 4 - Too low!\n",
            "Game finished in 3 attempts\n",
            "Guess 4: 10 - Too high!\n",
            "Game finished in 4 attempts\n",
            "Guess 5: 8 - Too high!\n",
            "Game finished in 5 attempts\n",
            "Guess 6: 5 - Too low!\n",
            "Game finished in 6 attempts\n",
            "Guess 7: 8 - Too high!\n",
            "Game finished in 7 attempts\n",
            "Guess 8: 7 - Correct!\n",
            "Game finished in 8 attempts\n"
          ]
        }
      ]
    },
    {
      "cell_type": "code",
      "source": [
        "def process_queue():\n",
        "  queue = [\"Task 1\",\"Task 2\" ,\"Task 3\",\"Task 4\"]\n",
        "\n",
        "  while queue:\n",
        "    current_task = queue.pop(0) #Remove first item\n",
        "    print(f\"Processing :{current_task}\")\n",
        "\n",
        "    print(f\"Remaining tasks: {len(queue)}\")\n",
        "  print(\"All tasks completed!\")\n",
        "process_queue()"
      ],
      "metadata": {
        "colab": {
          "base_uri": "https://localhost:8080/"
        },
        "id": "0vhWQVAMzGSv",
        "outputId": "f9933c04-7d5a-4f60-8a91-47efd71c1909"
      },
      "execution_count": null,
      "outputs": [
        {
          "output_type": "stream",
          "name": "stdout",
          "text": [
            "Processing :Task 1\n",
            "Remaining tasks: 3\n",
            "Processing :Task 2\n",
            "Remaining tasks: 2\n",
            "Processing :Task 3\n",
            "Remaining tasks: 1\n",
            "Processing :Task 4\n",
            "Remaining tasks: 0\n",
            "All tasks completed!\n"
          ]
        }
      ]
    },
    {
      "cell_type": "code",
      "source": [
        "def greet(name):\n",
        "  return f\"Hello,{name}!\"\n",
        "message = greet(\"sahana\")\n",
        "print(message)"
      ],
      "metadata": {
        "colab": {
          "base_uri": "https://localhost:8080/"
        },
        "id": "GWSagcx91VhI",
        "outputId": "a5cd34de-f8fa-4bee-f757-9060452ec3c7"
      },
      "execution_count": null,
      "outputs": [
        {
          "output_type": "stream",
          "name": "stdout",
          "text": [
            "Hello,sahana!\n"
          ]
        }
      ]
    },
    {
      "cell_type": "code",
      "source": [
        "def calculate_area(length,width):\n",
        "  area = length* width\n",
        "  return area"
      ],
      "metadata": {
        "id": "H6sCvSba2Rxo"
      },
      "execution_count": null,
      "outputs": []
    },
    {
      "cell_type": "code",
      "source": [
        "\n",
        "room_area = calculate_area(12,10)\n",
        "print(f\"Room area:{room_area} Square feet\")"
      ],
      "metadata": {
        "colab": {
          "base_uri": "https://localhost:8080/"
        },
        "id": "vQhm2qHS2Re5",
        "outputId": "d8b3d57e-18c9-4b5d-f055-482866dc1caa"
      },
      "execution_count": null,
      "outputs": [
        {
          "output_type": "stream",
          "name": "stdout",
          "text": [
            "Room area:120 Square feet\n"
          ]
        }
      ]
    },
    {
      "cell_type": "code",
      "source": [
        "def create_user_profile(name, age=18,location=\"Unknown\",active=True):\n",
        "  return {\n",
        "      \"name\":name,\n",
        "      \"age\":age,\n",
        "      \"location\":location,\n",
        "      \"active\":active\n",
        "  }"
      ],
      "metadata": {
        "id": "FLDsNfWD23p4"
      },
      "execution_count": null,
      "outputs": []
    },
    {
      "cell_type": "code",
      "source": [
        "profile1 = create_user_profile(\"Alice\")#use defaults\n",
        "profile2 = create_user_profile(\"Bob\",25)#Overrides age\n",
        "profile3 = create_user_profile(\"Charlie\",location = \"New York\",age=30)#Overrides age\n",
        "print(f\"Profile 1: {profile1}\")\n",
        "print(f\"Profile 2: {profile2}\")\n",
        "print(f\"Profile 3: {profile3}\")"
      ],
      "metadata": {
        "colab": {
          "base_uri": "https://localhost:8080/"
        },
        "id": "XzuSdNmU5Kfp",
        "outputId": "ef78d3ce-920c-4924-b5a9-bfeba518ccee"
      },
      "execution_count": null,
      "outputs": [
        {
          "output_type": "stream",
          "name": "stdout",
          "text": [
            "Profile 1: {'name': 'Alice', 'age': 18, 'location': 'Unknown', 'active': True}\n",
            "Profile 2: {'name': 'Bob', 'age': 25, 'location': 'Unknown', 'active': True}\n",
            "Profile 3: {'name': 'Charlie', 'age': 30, 'location': 'New York', 'active': True}\n"
          ]
        }
      ]
    },
    {
      "cell_type": "code",
      "source": [
        "#Function Returning Multiple values\n",
        "def analyze_text(text):\n",
        "  words = text.split()\n",
        "  word_count = len(words)\n",
        "  char_count = len(text)\n",
        "  char_count_no_spaces = len(text.replace(\" \",\" \"))\n",
        "  return word_count,char_count,char_count_no_spaces"
      ],
      "metadata": {
        "id": "zD574FXv7zca"
      },
      "execution_count": null,
      "outputs": []
    },
    {
      "cell_type": "code",
      "source": [
        "sample_text = \"Python is a powerful programming language\"\n",
        "\n",
        "words,chars,chars_no_spaces = analyze_text(sample_text)\n",
        "\n",
        "print(f\"Text: '{sample_text}'\")\n",
        "print(f\"Words:{words}\")\n",
        "print(f\"Characters count:{chars}\")\n",
        "print(f\"Characters(no spaces):{chars_no_spaces}\")"
      ],
      "metadata": {
        "id": "QNm4yVVd79Rw"
      },
      "execution_count": null,
      "outputs": []
    },
    {
      "cell_type": "code",
      "source": [
        "def calculate_average(*numbers):\n",
        "  if not numbers:\n",
        "    return 0\n",
        "  return sum(numbers)/len(numbers)\n"
      ],
      "metadata": {
        "id": "W9T4-vDc_fZQ"
      },
      "execution_count": null,
      "outputs": []
    },
    {
      "cell_type": "code",
      "source": [
        "avg1 = calculate_average(10,20,30)\n",
        "avg2 = calculate_average(5,15,25,35,45)\n",
        "avg3 = calculate_average(100)\n",
        "\n",
        "print(f\"average of 10,20,30:{avg1}\")\n",
        "print(f\"average of 5,15,25,35,45 :{avg2}\")\n",
        "print(f\"average of 100:({avg3}\")\n"
      ],
      "metadata": {
        "colab": {
          "base_uri": "https://localhost:8080/"
        },
        "id": "ggox_hj3_2Ug",
        "outputId": "1077d1d2-9b71-46c2-fffa-99a308f031bc"
      },
      "execution_count": null,
      "outputs": [
        {
          "output_type": "stream",
          "name": "stdout",
          "text": [
            "average of 10,20,30:20.0\n",
            "average of 5,15,25,35,45 :25.0\n",
            "average of 100:(100.0\n"
          ]
        }
      ]
    },
    {
      "cell_type": "code",
      "source": [
        "def create_report(**data):\n",
        "  print(\"===REPORT===\")\n",
        "\n",
        "  for key,value in data.items():\n",
        "    print(f\"{key.replace('_',' ').title()}:{value}\")\n",
        "\n",
        "  print(\"=================\")\n",
        "create_report(\n",
        "  title=\"Montly Slales Report\",\n",
        "  date=\"2024-01-01\",\n",
        "  total_sales=15000,\n",
        "  new_customer=25,\n",
        "  )"
      ],
      "metadata": {
        "colab": {
          "base_uri": "https://localhost:8080/"
        },
        "id": "2bLIQP6KB9Co",
        "outputId": "5dff03b4-8b15-41b1-e9f6-d627200cceab"
      },
      "execution_count": null,
      "outputs": [
        {
          "output_type": "stream",
          "name": "stdout",
          "text": [
            "===REPORT===\n",
            "Title:Montly Slales Report\n",
            "Date:2024-01-01\n",
            "Total Sales:15000\n",
            "New Customer:25\n",
            "=================\n"
          ]
        }
      ]
    },
    {
      "cell_type": "code",
      "source": [
        "def square(x):\n",
        "  return x**2"
      ],
      "metadata": {
        "id": "2DRX6WltI-Mg"
      },
      "execution_count": null,
      "outputs": []
    },
    {
      "cell_type": "code",
      "source": [
        "square_lambda = lambda x: x **2\n",
        "print(f\"Regular Function :{square(5)}\")\n",
        "print(f\"Lambda Function : {square_lambda(5)}\")"
      ],
      "metadata": {
        "id": "qs8arU2gFynh"
      },
      "execution_count": null,
      "outputs": []
    },
    {
      "cell_type": "code",
      "source": [
        "multiply = lambda x, y: x * y\n",
        "print(f\" Multiply {multiply(3,4)}\")"
      ],
      "metadata": {
        "colab": {
          "base_uri": "https://localhost:8080/"
        },
        "id": "jON5_mfpHR-p",
        "outputId": "369a3315-ebbd-43c6-ce9e-833771c78440"
      },
      "execution_count": null,
      "outputs": [
        {
          "output_type": "stream",
          "name": "stdout",
          "text": [
            " Multiply 12\n"
          ]
        }
      ]
    },
    {
      "cell_type": "code",
      "source": [
        "numbers = [1,2,3,4,5]\n",
        "squared = list(map(lambda x: x**2,numbers))\n",
        "print(f\"Squared numbers:{squared}\")"
      ],
      "metadata": {
        "colab": {
          "base_uri": "https://localhost:8080/"
        },
        "id": "lbi7OXU9H6LB",
        "outputId": "ede9179d-0f86-46e8-9319-097c77d99cb1"
      },
      "execution_count": null,
      "outputs": [
        {
          "output_type": "stream",
          "name": "stdout",
          "text": [
            "Squared numbers:[1, 4, 9, 16, 25]\n"
          ]
        }
      ]
    },
    {
      "cell_type": "code",
      "source": [
        "ages = [16,21,35,12,45,18,67]\n",
        "adults = list(filter(lambda age: age>=18,ages))\n",
        "print(f\"Adults ages:{adults}\")"
      ],
      "metadata": {
        "colab": {
          "base_uri": "https://localhost:8080/"
        },
        "id": "IEPIA6BSIH0Z",
        "outputId": "ed38823b-5bbc-46c6-c253-83ac0c9bc54a"
      },
      "execution_count": null,
      "outputs": [
        {
          "output_type": "stream",
          "name": "stdout",
          "text": [
            "Adults ages:[21, 35, 45, 18, 67]\n"
          ]
        }
      ]
    },
    {
      "cell_type": "code",
      "source": [
        "people = [\n",
        "    {\"name\":\"Alice\",\"age\":25},\n",
        "    {\"name\":\"Bob\",\"age\":30},\n",
        "    {\"name\":\"Charlie\",\"age\":22}\n",
        "]\n",
        "sorted_people = sorted(people,key = lambda person:person[\"age\"])\n",
        "print(\"People Sorted by age:\")\n",
        "\n",
        "\n",
        "for person in sorted_people:\n",
        "  print(f\"{person['name']}:{person['age']}\")"
      ],
      "metadata": {
        "colab": {
          "base_uri": "https://localhost:8080/"
        },
        "id": "soHGapVXLCOR",
        "outputId": "714d009e-6ad3-4919-81b5-b40648918a04"
      },
      "execution_count": null,
      "outputs": [
        {
          "output_type": "stream",
          "name": "stdout",
          "text": [
            "People Sorted by age:\n",
            "Charlie:22\n",
            "Alice:25\n",
            "Bob:30\n"
          ]
        }
      ]
    },
    {
      "cell_type": "code",
      "source": [
        "import numpy as np\n",
        "a = np.array([1,2,3,4,5])\n",
        "b = np.arange(1,6)\n",
        "c = np.zeros((1,2))\n",
        "d = np.ones((1,2))\n",
        "print(\"Array a: \",a)\n",
        "print(\"Array b: \",b)\n",
        "print(\"1*3 Zeros :\",c)\n",
        "print(\"2*3 Ones\",d)"
      ],
      "metadata": {
        "colab": {
          "base_uri": "https://localhost:8080/"
        },
        "id": "9AnD5BKcATTh",
        "outputId": "210ef0ea-f3ca-4dc7-b533-2908c37eec9c"
      },
      "execution_count": null,
      "outputs": [
        {
          "output_type": "stream",
          "name": "stdout",
          "text": [
            "Array a:  [1 2 3 4 5]\n",
            "Array b:  [1 2 3 4 5]\n",
            "1*3 Zeros : [[0. 0.]]\n",
            "2*3 Ones [[1. 1.]]\n"
          ]
        }
      ]
    },
    {
      "cell_type": "code",
      "source": [
        "print(\"First Element Of a:\",a[0])\n",
        "print(\"Last Two Element of a:\",a[-2:])"
      ],
      "metadata": {
        "colab": {
          "base_uri": "https://localhost:8080/"
        },
        "id": "0hLhHxdKUUPd",
        "outputId": "709b1d2b-b126-4dd2-8284-56d571132127"
      },
      "execution_count": null,
      "outputs": [
        {
          "output_type": "stream",
          "name": "stdout",
          "text": [
            "First Element Of a: 1\n",
            "Last Two Element of a: [4 5]\n"
          ]
        }
      ]
    },
    {
      "cell_type": "code",
      "source": [
        "#Basic Arithematic Operation\n",
        "\n",
        "print(\"a + 2\",a+2)\n",
        "print(\"a - 3\",a-b)\n",
        "print(\"a * 3\",a*3)\n"
      ],
      "metadata": {
        "colab": {
          "base_uri": "https://localhost:8080/"
        },
        "id": "238WDQoaUw8d",
        "outputId": "1c5720cb-9a3e-4c3d-de16-40603bcb5f8a"
      },
      "execution_count": null,
      "outputs": [
        {
          "output_type": "stream",
          "name": "stdout",
          "text": [
            "a + 2 [3 4 5 6 7]\n",
            "a - 3 [0 0 0 0 0]\n",
            "a * 3 [ 3  6  9 12 15]\n"
          ]
        }
      ]
    },
    {
      "cell_type": "code",
      "source": [
        "# Basic Statistics\n",
        "\n",
        "print(\"Square of a:\",np.square(a))\n",
        "print(\"Mean Of a: \",np.mean(a))\n",
        "print(\"Standard deviation :\",np.std(a))"
      ],
      "metadata": {
        "colab": {
          "base_uri": "https://localhost:8080/"
        },
        "id": "IISM4EVUVWc9",
        "outputId": "5e0b697d-abbf-4f3a-fd4a-97e91ce40333"
      },
      "execution_count": null,
      "outputs": [
        {
          "output_type": "stream",
          "name": "stdout",
          "text": [
            "Square of a: [ 1  4  9 16 25]\n",
            "Mean Of a:  3.0\n",
            "Standard deviation : 1.4142135623730951\n"
          ]
        }
      ]
    },
    {
      "cell_type": "code",
      "source": [
        "# Reshaping Array\n",
        "\n",
        "matrix = np.arange(1,10).reshape((3,3))\n",
        "print(\"Reshaped 3*3 matrix:\")\n",
        "matrix"
      ],
      "metadata": {
        "colab": {
          "base_uri": "https://localhost:8080/"
        },
        "id": "96oTGUIYV8_M",
        "outputId": "2ba54788-52aa-46f4-cc09-68e56d471377"
      },
      "execution_count": null,
      "outputs": [
        {
          "output_type": "stream",
          "name": "stdout",
          "text": [
            "Reshaped 3*3 matrix:\n"
          ]
        },
        {
          "output_type": "execute_result",
          "data": {
            "text/plain": [
              "array([[1, 2, 3],\n",
              "       [4, 5, 6],\n",
              "       [7, 8, 9]])"
            ]
          },
          "metadata": {},
          "execution_count": 18
        }
      ]
    },
    {
      "cell_type": "code",
      "source": [
        "#TRANSPOSE\n",
        "\n",
        "print(\"Transpose of matrix:\")\n",
        "matrix.T"
      ],
      "metadata": {
        "colab": {
          "base_uri": "https://localhost:8080/"
        },
        "id": "GEzNO9PaWkkV",
        "outputId": "897b72cf-313d-47e1-8630-a5b87852af84"
      },
      "execution_count": null,
      "outputs": [
        {
          "output_type": "stream",
          "name": "stdout",
          "text": [
            "Transpose of matrix:\n"
          ]
        },
        {
          "output_type": "execute_result",
          "data": {
            "text/plain": [
              "array([[1, 4, 7],\n",
              "       [2, 5, 8],\n",
              "       [3, 6, 9]])"
            ]
          },
          "metadata": {},
          "execution_count": 20
        }
      ]
    },
    {
      "cell_type": "code",
      "source": [
        "#Boolean Indexing\n",
        "\n",
        "\n",
        "print(\"Elements > 5:\",matrix[matrix>5])"
      ],
      "metadata": {
        "colab": {
          "base_uri": "https://localhost:8080/"
        },
        "id": "nfJES9ryWx0N",
        "outputId": "3b491038-8a37-4c19-d075-2c4da49d9bc3"
      },
      "execution_count": null,
      "outputs": [
        {
          "output_type": "stream",
          "name": "stdout",
          "text": [
            "Elements > 5: [6 7 8 9]\n"
          ]
        }
      ]
    }
  ]
}